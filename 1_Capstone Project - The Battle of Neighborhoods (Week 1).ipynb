{
 "cells": [
  {
   "cell_type": "markdown",
   "metadata": {},
   "source": [
    "# Capstone Project - The Battle of Neighborhoods (Week 1)\n",
    "This is the first part of week 1 Capstone Project. In this notebook I'll describe the problem at hand, \n",
    "explain why it is important, and explain how and where i'll retrieve the data needed to accomplish my objective.\n",
    "I am asked to use location data to explore geographical locations (New York, Toronto and another city of my choice)\n",
    "using Foursquare location data, to be creative and find a possible problem that can be solved with this approach."
   ]
  },
  {
   "cell_type": "markdown",
   "metadata": {},
   "source": [
    "## 1. Introduction\n",
    "Everyone has faced or will face, some time of their life, a difficult decision to make: i.e. get or not get married, move\n",
    "away from your parent's house to your own place, have ou not have kids, enroll or not in that awesome course, etc...\n",
    "\n",
    "The situation I present might as well be a one of particular difficulty, mostly due to the challenge it may present. Let's\n",
    "imagine that you, as an entrepreneur, creative professional, and keen on producing innovative products, decide (along with\n",
    "some good and daring colleagues) to start a StartUp company. You are offered some help to establish an office in only 3 cities,\n",
    "all of them away from your hometown and also your colleagues' hometown.\n",
    "\n",
    "Let's define further our problem.\n",
    "### 1.1 Problem Definition\n",
    "The 3 cities are major hubs, diverse in all the ways, the main financial capitals of their countries, full of opportunities, etc...\n",
    "The 3 cities are New York (USA), Toronto (Canada), and Lisbon (Portugal).\n",
    "\n",
    "To complicate things, you are an american citizen, and your colleagues, citizens of central europe. You happen\n",
    "to make first acquainted in a major meeting related to your area of expertise.\n",
    "\n",
    "Your StartUp, and it's work, may be defined by the following keywords:\n",
    "* Innovative;\n",
    "* Culturally impacting;\n",
    "* Environment friendly;\n",
    "* Information Technology;\n",
    "* Game changing;\n",
    "* Daring designs and approaches;\n",
    "\n",
    "You and your colleagues have the following concerns and needs (with no particular order):\n",
    "* Affordability of office and living;\n",
    "* Good weather;\n",
    "* Multicultural environment;\n",
    "* Near essential commodities;\n",
    "* Near places to relax and meet people (good night life, sightseeing, etc...);\n",
    "* Safety, good overall security;\n",
    "* Always wanted to live in a buzzing city but without stressing situations;\n",
    "* Easy to move around, in and out, without own vehicle;\n",
    "* Dont want to move to a place very far from hometown;\n",
    "\n",
    "Now let's look at the cities background\n",
    "\n",
    "### 1.2 Objective\n",
    "My objective is, with Data Science and Machine Learning, to advise the best city and neighborhood to set up said StartUp\n",
    "company based on the factor above specified.\n"
   ]
  }
 ],
 "metadata": {
  "kernelspec": {
   "display_name": "Python 3",
   "language": "python",
   "name": "python3"
  },
  "language_info": {
   "codemirror_mode": {
    "name": "ipython",
    "version": 3
   },
   "file_extension": ".py",
   "mimetype": "text/x-python",
   "name": "python",
   "nbconvert_exporter": "python",
   "pygments_lexer": "ipython3",
   "version": "3.7.3"
  },
  "pycharm": {
   "stem_cell": {
    "cell_type": "raw",
    "metadata": {
     "collapsed": false
    },
    "source": []
   }
  }
 },
 "nbformat": 4,
 "nbformat_minor": 2
}
