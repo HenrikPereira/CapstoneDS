{
 "cells": [
  {
   "cell_type": "markdown",
   "metadata": {
    "collapsed": true,
    "pycharm": {
     "name": "#%% md\n",
     "is_executing": false
    }
   },
   "source": [
    "# Capstone Project - The Battle of Neighborhoods (Week 1)\n",
    "This is the first part of week 1 Capstone Project. In this notebook I'll describe the problem at hand, \n",
    "explain why it is important, and explain how and where i'll retrieve the data needed to accomplish my objective.\n",
    "I am asked to use location data to explore geographical locations (New York, Toronto and another city of my choice)\n",
    "using Foursquare location data, to be creative and find a possible problem that can be solved with this approach."
   ]
  },
  {
   "cell_type": "markdown",
   "source": [
    "## 1. Introduction\n",
    "Everyone has faced or will face, some time of their life, a difficult decision to make: i.e. get or not get married, move\n",
    "away from your parent's house to your own place, have ou not have kids, enroll or not in that awesome course, etc...\n",
    "\n",
    "The situation I present might as well be a one of particular difficulty, mostly due to the challenge it may present. Let's\n",
    "imagine that you, as an entrepreneur, creative professional, and keen on producing innovative products, decide (along with\n",
    "some good and daring colleagues) to start a StartUp company. You are offered some help to establish an office in only 3 cities,\n",
    "all of them away from your hometown and also your colleagues' hometown.\n",
    "\n",
    "Let's define further our problem.\n",
    "### 1.1 Problem Definition\n",
    "The 3 cities are major hubs, diverse in all the ways, the main financial capitals of their countries, full of opportunities, etc...\n",
    "The 3 cities are New York (USA), Toronto (Canada), and Lisbon (Portugal).\n",
    "\n",
    "To complicate things, you are an american citizen, and your colleagues, citizens of central europe. You happen\n",
    "to make first acquainted in a major meeting related to your area of expertise.\n",
    "\n",
    "Your StartUp, and it's work, may be defined by the following keywords:\n",
    "* Innovative;\n",
    "* Culturally impacting;\n",
    "* Environment friendly;\n",
    "* Information Technology;\n",
    "* Game changing;\n",
    "* Daring designs and approaches;\n",
    "\n",
    "You and your colleagues have the following concerns and needs (with no particular order):\n",
    "* Affordability of office and living;\n",
    "* Good weather;\n",
    "* Multicultural environment;\n",
    "* Near essential commodities;\n",
    "* Near places to relax and meet people (good night life, sightseeing, etc...);\n",
    "* Safety, good overall security;\n",
    "* Always wanted to live in a buzzing city but without stressing situations;\n",
    "* Easy to move around, in and out, without own vehicle;\n",
    "* Dont want to move to a place very far from hometown;\n",
    "\n",
    "Now let's look at the cities background\n",
    "\n",
    "### 1.2 Objective\n",
    "My objective is, with Data Science and Machine Learning, to advise the best city and neighborhood to set up said StartUp\n",
    "company based on the factor above specified.\n"
   ],
   "metadata": {
    "collapsed": false,
    "pycharm": {
     "name": "#%% md\n"
    }
   }
  },
  {
   "cell_type": "markdown",
   "source": [
    "## 2. Data\n",
    "Every data used in the project will be either stored in the resources folder of the GitHub repository associated with this project,\n",
    "or be available in the internet.\n",
    "\n",
    "I'll use the data from the Coursera clustering lab of New York (https://geo.nyu.edu/catalog/nyu_2451_34572; https://cocl.us/new_york_dataset)\n",
    ") and the previous project regarding the clustering of Toronto\n",
    "neighborhoods. The data related to the city of Lisbon was retrieved from official Portuguese Government open source information. \n",
    "I'll also use data from the \"Nomad List\" ( https://nomadlist.com/ ) to rank the cities so I can put similarities and dissimilarities\n",
    "in perspective when comparing their neighborhoods."
   ],
   "metadata": {
    "collapsed": false,
    "pycharm": {
     "name": "#%% md\n"
    }
   }
  },
  {
   "cell_type": "code",
   "execution_count": 1,
   "outputs": [
    {
     "name": "stdout",
     "text": [
      "Libraries imported...\n"
     ],
     "output_type": "stream"
    }
   ],
   "source": [
    "# import of relevant packages\n",
    "import pandas as pd\n",
    "import urllib.request\n",
    "import json\n",
    "from pandas.io.json import json_normalize\n",
    "import re\n",
    "from geopy.geocoders import Nominatim\n",
    "import requests\n",
    "from bs4 import BeautifulSoup as bs\n",
    "import time\n",
    "import random\n",
    "import numpy as np\n",
    "pd.set_option('display.max_columns', None)\n",
    "pd.set_option('display.max_rows', None)\n",
    "print('Libraries imported...')"
   ],
   "metadata": {
    "collapsed": false,
    "pycharm": {
     "name": "#%%\n",
     "is_executing": false
    }
   }
  },
  {
   "cell_type": "markdown",
   "source": [
    "### 2.1 Loading of New York neighborhood and location data\n",
    "This data was first retrieved in the coursera lab that clustered the neighborhoods in New York. I'll use a JSON format."
   ],
   "metadata": {
    "collapsed": false,
    "pycharm": {
     "name": "#%% md\n",
     "is_executing": false
    }
   }
  },
  {
   "cell_type": "code",
   "execution_count": 2,
   "outputs": [
    {
     "data": {
      "text/plain": "                       geometry.coordinates geometry.type geometry_name  \\\n0      [-73.84720052054902, 40.89470517661]         Point          geom   \n1   [-73.82993910812398, 40.87429419303012]         Point          geom   \n2  [-73.82780644716412, 40.887555677350775]         Point          geom   \n3   [-73.90564259591682, 40.89543742690383]         Point          geom   \n4   [-73.9125854610857, 40.890834493891305]         Point          geom   \n\n                 id  properties.annoangle properties.annoline1  \\\n0  nyu_2451_34572.1                   0.0            Wakefield   \n1  nyu_2451_34572.2                   0.0                Co-op   \n2  nyu_2451_34572.3                   0.0          Eastchester   \n3  nyu_2451_34572.4                   0.0            Fieldston   \n4  nyu_2451_34572.5                   0.0            Riverdale   \n\n  properties.annoline2 properties.annoline3  \\\n0                 None                 None   \n1                 City                 None   \n2                 None                 None   \n3                 None                 None   \n4                 None                 None   \n\n                                     properties.bbox properties.borough  \\\n0  [-73.84720052054902, 40.89470517661, -73.84720...              Bronx   \n1  [-73.82993910812398, 40.87429419303012, -73.82...              Bronx   \n2  [-73.82780644716412, 40.887555677350775, -73.8...              Bronx   \n3  [-73.90564259591682, 40.89543742690383, -73.90...              Bronx   \n4  [-73.9125854610857, 40.890834493891305, -73.91...              Bronx   \n\n  properties.name  properties.stacked     type  \n0       Wakefield                   1  Feature  \n1      Co-op City                   2  Feature  \n2     Eastchester                   1  Feature  \n3       Fieldston                   1  Feature  \n4       Riverdale                   1  Feature  ",
      "text/html": "<div>\n<style scoped>\n    .dataframe tbody tr th:only-of-type {\n        vertical-align: middle;\n    }\n\n    .dataframe tbody tr th {\n        vertical-align: top;\n    }\n\n    .dataframe thead th {\n        text-align: right;\n    }\n</style>\n<table border=\"1\" class=\"dataframe\">\n  <thead>\n    <tr style=\"text-align: right;\">\n      <th></th>\n      <th>geometry.coordinates</th>\n      <th>geometry.type</th>\n      <th>geometry_name</th>\n      <th>id</th>\n      <th>properties.annoangle</th>\n      <th>properties.annoline1</th>\n      <th>properties.annoline2</th>\n      <th>properties.annoline3</th>\n      <th>properties.bbox</th>\n      <th>properties.borough</th>\n      <th>properties.name</th>\n      <th>properties.stacked</th>\n      <th>type</th>\n    </tr>\n  </thead>\n  <tbody>\n    <tr>\n      <th>0</th>\n      <td>[-73.84720052054902, 40.89470517661]</td>\n      <td>Point</td>\n      <td>geom</td>\n      <td>nyu_2451_34572.1</td>\n      <td>0.0</td>\n      <td>Wakefield</td>\n      <td>None</td>\n      <td>None</td>\n      <td>[-73.84720052054902, 40.89470517661, -73.84720...</td>\n      <td>Bronx</td>\n      <td>Wakefield</td>\n      <td>1</td>\n      <td>Feature</td>\n    </tr>\n    <tr>\n      <th>1</th>\n      <td>[-73.82993910812398, 40.87429419303012]</td>\n      <td>Point</td>\n      <td>geom</td>\n      <td>nyu_2451_34572.2</td>\n      <td>0.0</td>\n      <td>Co-op</td>\n      <td>City</td>\n      <td>None</td>\n      <td>[-73.82993910812398, 40.87429419303012, -73.82...</td>\n      <td>Bronx</td>\n      <td>Co-op City</td>\n      <td>2</td>\n      <td>Feature</td>\n    </tr>\n    <tr>\n      <th>2</th>\n      <td>[-73.82780644716412, 40.887555677350775]</td>\n      <td>Point</td>\n      <td>geom</td>\n      <td>nyu_2451_34572.3</td>\n      <td>0.0</td>\n      <td>Eastchester</td>\n      <td>None</td>\n      <td>None</td>\n      <td>[-73.82780644716412, 40.887555677350775, -73.8...</td>\n      <td>Bronx</td>\n      <td>Eastchester</td>\n      <td>1</td>\n      <td>Feature</td>\n    </tr>\n    <tr>\n      <th>3</th>\n      <td>[-73.90564259591682, 40.89543742690383]</td>\n      <td>Point</td>\n      <td>geom</td>\n      <td>nyu_2451_34572.4</td>\n      <td>0.0</td>\n      <td>Fieldston</td>\n      <td>None</td>\n      <td>None</td>\n      <td>[-73.90564259591682, 40.89543742690383, -73.90...</td>\n      <td>Bronx</td>\n      <td>Fieldston</td>\n      <td>1</td>\n      <td>Feature</td>\n    </tr>\n    <tr>\n      <th>4</th>\n      <td>[-73.9125854610857, 40.890834493891305]</td>\n      <td>Point</td>\n      <td>geom</td>\n      <td>nyu_2451_34572.5</td>\n      <td>0.0</td>\n      <td>Riverdale</td>\n      <td>None</td>\n      <td>None</td>\n      <td>[-73.9125854610857, 40.890834493891305, -73.91...</td>\n      <td>Bronx</td>\n      <td>Riverdale</td>\n      <td>1</td>\n      <td>Feature</td>\n    </tr>\n  </tbody>\n</table>\n</div>"
     },
     "metadata": {},
     "output_type": "execute_result",
     "execution_count": 2
    }
   ],
   "source": [
    "with open('resources_battle_n/newyork_data.json') as json_data:\n",
    "    newyork_data = json.load(json_data)\n",
    "# assessing the data from the json file\n",
    "json_normalize(newyork_data['features']).head()"
   ],
   "metadata": {
    "collapsed": false,
    "pycharm": {
     "name": "#%%\n",
     "is_executing": false
    }
   }
  },
  {
   "cell_type": "code",
   "execution_count": 3,
   "outputs": [
    {
     "data": {
      "text/plain": "  Borough Neighborhood   Latitude  Longitude\n0   Bronx    Wakefield  40.894705 -73.847201\n1   Bronx   Co-op City  40.874294 -73.829939\n2   Bronx  Eastchester  40.887556 -73.827806\n3   Bronx    Fieldston  40.895437 -73.905643\n4   Bronx    Riverdale  40.890834 -73.912585",
      "text/html": "<div>\n<style scoped>\n    .dataframe tbody tr th:only-of-type {\n        vertical-align: middle;\n    }\n\n    .dataframe tbody tr th {\n        vertical-align: top;\n    }\n\n    .dataframe thead th {\n        text-align: right;\n    }\n</style>\n<table border=\"1\" class=\"dataframe\">\n  <thead>\n    <tr style=\"text-align: right;\">\n      <th></th>\n      <th>Borough</th>\n      <th>Neighborhood</th>\n      <th>Latitude</th>\n      <th>Longitude</th>\n    </tr>\n  </thead>\n  <tbody>\n    <tr>\n      <th>0</th>\n      <td>Bronx</td>\n      <td>Wakefield</td>\n      <td>40.894705</td>\n      <td>-73.847201</td>\n    </tr>\n    <tr>\n      <th>1</th>\n      <td>Bronx</td>\n      <td>Co-op City</td>\n      <td>40.874294</td>\n      <td>-73.829939</td>\n    </tr>\n    <tr>\n      <th>2</th>\n      <td>Bronx</td>\n      <td>Eastchester</td>\n      <td>40.887556</td>\n      <td>-73.827806</td>\n    </tr>\n    <tr>\n      <th>3</th>\n      <td>Bronx</td>\n      <td>Fieldston</td>\n      <td>40.895437</td>\n      <td>-73.905643</td>\n    </tr>\n    <tr>\n      <th>4</th>\n      <td>Bronx</td>\n      <td>Riverdale</td>\n      <td>40.890834</td>\n      <td>-73.912585</td>\n    </tr>\n  </tbody>\n</table>\n</div>"
     },
     "metadata": {},
     "output_type": "execute_result",
     "execution_count": 3
    }
   ],
   "source": [
    "# Create DataFrame of NY\n",
    "column_names = ['Borough', 'Neighborhood', 'Latitude', 'Longitude'] \n",
    "NY_neighborhoods = pd.DataFrame(columns=column_names)\n",
    "\n",
    "for data in newyork_data['features']:\n",
    "    borough = data[u'properties'][u'borough'] \n",
    "    neighborhood_name = data[u'properties'][u'name']\n",
    "        \n",
    "    neighborhood_lat_lon = data[u'geometry'][u'coordinates']\n",
    "    neighborhood_lat = neighborhood_lat_lon[1]\n",
    "    neighborhood_lon = neighborhood_lat_lon[0]\n",
    "    \n",
    "    NY_neighborhoods = NY_neighborhoods.append({'Borough': borough,\n",
    "                                          'Neighborhood': neighborhood_name,\n",
    "                                          'Latitude': neighborhood_lat,\n",
    "                                          'Longitude': neighborhood_lon}, ignore_index=True)\n",
    "# Check if data was correctly loaded\n",
    "NY_neighborhoods.head()"
   ],
   "metadata": {
    "collapsed": false,
    "pycharm": {
     "name": "#%%    \n",
     "is_executing": false
    }
   }
  },
  {
   "cell_type": "code",
   "execution_count": 4,
   "outputs": [],
   "source": [
    "# Save the dataframe as a csv file in the resources folder\n",
    "NY_neighborhoods.to_csv('resources_battle_n/NY_neighborhoods.csv')"
   ],
   "metadata": {
    "collapsed": false,
    "pycharm": {
     "name": "#%%\n",
     "is_executing": false
    }
   }
  },
  {
   "cell_type": "markdown",
   "source": [
    "### 2.3 Loading of Toronto neighborhood and location data\n",
    "This data was first retrieved in the previous project from this Capstone in Data Science that clustered the \n",
    "neighborhoods in Toronto."
   ],
   "metadata": {
    "collapsed": false,
    "pycharm": {
     "name": "#%% md\n",
     "is_executing": false
    }
   }
  },
  {
   "cell_type": "code",
   "execution_count": 5,
   "outputs": [
    {
     "data": {
      "text/plain": "       Borough                            Neighborhood   Latitude  Longitude\n0  Scarborough                          Rouge, Malvern  43.806686 -79.194353\n1  Scarborough  Highland Creek, Rouge Hill, Port Union  43.784535 -79.160497\n2  Scarborough       Guildwood, Morningside, West Hill  43.763573 -79.188711\n3  Scarborough                                  Woburn  43.770992 -79.216917\n4  Scarborough                               Cedarbrae  43.773136 -79.239476",
      "text/html": "<div>\n<style scoped>\n    .dataframe tbody tr th:only-of-type {\n        vertical-align: middle;\n    }\n\n    .dataframe tbody tr th {\n        vertical-align: top;\n    }\n\n    .dataframe thead th {\n        text-align: right;\n    }\n</style>\n<table border=\"1\" class=\"dataframe\">\n  <thead>\n    <tr style=\"text-align: right;\">\n      <th></th>\n      <th>Borough</th>\n      <th>Neighborhood</th>\n      <th>Latitude</th>\n      <th>Longitude</th>\n    </tr>\n  </thead>\n  <tbody>\n    <tr>\n      <th>0</th>\n      <td>Scarborough</td>\n      <td>Rouge, Malvern</td>\n      <td>43.806686</td>\n      <td>-79.194353</td>\n    </tr>\n    <tr>\n      <th>1</th>\n      <td>Scarborough</td>\n      <td>Highland Creek, Rouge Hill, Port Union</td>\n      <td>43.784535</td>\n      <td>-79.160497</td>\n    </tr>\n    <tr>\n      <th>2</th>\n      <td>Scarborough</td>\n      <td>Guildwood, Morningside, West Hill</td>\n      <td>43.763573</td>\n      <td>-79.188711</td>\n    </tr>\n    <tr>\n      <th>3</th>\n      <td>Scarborough</td>\n      <td>Woburn</td>\n      <td>43.770992</td>\n      <td>-79.216917</td>\n    </tr>\n    <tr>\n      <th>4</th>\n      <td>Scarborough</td>\n      <td>Cedarbrae</td>\n      <td>43.773136</td>\n      <td>-79.239476</td>\n    </tr>\n  </tbody>\n</table>\n</div>"
     },
     "metadata": {},
     "output_type": "execute_result",
     "execution_count": 5
    }
   ],
   "source": [
    "TO_neighborhoods = pd.read_csv('resources_battle_n/PC_N_Toronto_coord.csv')\\\n",
    "                       .iloc[:,2:].rename(columns={'Neigborhood':'Neighborhood'}) # selection of only the correct labels\n",
    "TO_neighborhoods.head()"
   ],
   "metadata": {
    "collapsed": false,
    "pycharm": {
     "name": "#%%\n",
     "is_executing": false
    }
   }
  },
  {
   "cell_type": "code",
   "execution_count": 6,
   "outputs": [],
   "source": [
    "# Save the dataframe as a csv file in the resources folder\n",
    "TO_neighborhoods.to_csv('resources_battle_n/TO_neighborhoods.csv')"
   ],
   "metadata": {
    "collapsed": false,
    "pycharm": {
     "name": "#%%\n",
     "is_executing": false
    }
   }
  },
  {
   "cell_type": "markdown",
   "source": [
    "### 2.3 Loading of Great Lisbon neighborhood and location data\n",
    "This data was retrieved from official Portuguese government urls. The city of Lisbon is part of a greater area, so\n",
    "I'll aggregate all the data from Lisbon and the most adjacent municipalities that compose the Metropolitan Lisbon Area, namely: \n",
    "Alcochete; Almada; Amadora; Barreiro; Cascais; Loures; Moita; Montijo; Odivelas; Oeiras; Seixal; Sintra; Vila Franca de Xira.\n",
    "\n",
    "For sake of simplicity, I'll call these municipalities as Boroughs. From the administrative point of view this is incorrect but\n",
    "this categorization resembles the administrative division in New York and Toronto. Thus, comparison is more adequate in\n",
    "the further analysis."
   ],
   "metadata": {
    "collapsed": false,
    "pycharm": {
     "name": "#%% md\n"
    }
   }
  },
  {
   "cell_type": "code",
   "execution_count": 7,
   "outputs": [
    {
     "data": {
      "text/plain": "                         attributes.NOME  attributes.OBJECTID  geometry.x  \\\n0  Junta de Freguesia das Avenidas Novas                    1   -9.148398   \n1            Junta de Freguesia do Beato                    2   -9.124203   \n2          Junta de Freguesia da Estrela                    3   -9.168894   \n3          Junta de Freguesia de Benfica                    4   -9.204372   \n4          Junta de Freguesia de Arroios                    5   -9.144370   \n\n   geometry.y  \n0   38.730269  \n1   38.736438  \n2   38.711975  \n3   38.734170  \n4   38.731079  ",
      "text/html": "<div>\n<style scoped>\n    .dataframe tbody tr th:only-of-type {\n        vertical-align: middle;\n    }\n\n    .dataframe tbody tr th {\n        vertical-align: top;\n    }\n\n    .dataframe thead th {\n        text-align: right;\n    }\n</style>\n<table border=\"1\" class=\"dataframe\">\n  <thead>\n    <tr style=\"text-align: right;\">\n      <th></th>\n      <th>attributes.NOME</th>\n      <th>attributes.OBJECTID</th>\n      <th>geometry.x</th>\n      <th>geometry.y</th>\n    </tr>\n  </thead>\n  <tbody>\n    <tr>\n      <th>0</th>\n      <td>Junta de Freguesia das Avenidas Novas</td>\n      <td>1</td>\n      <td>-9.148398</td>\n      <td>38.730269</td>\n    </tr>\n    <tr>\n      <th>1</th>\n      <td>Junta de Freguesia do Beato</td>\n      <td>2</td>\n      <td>-9.124203</td>\n      <td>38.736438</td>\n    </tr>\n    <tr>\n      <th>2</th>\n      <td>Junta de Freguesia da Estrela</td>\n      <td>3</td>\n      <td>-9.168894</td>\n      <td>38.711975</td>\n    </tr>\n    <tr>\n      <th>3</th>\n      <td>Junta de Freguesia de Benfica</td>\n      <td>4</td>\n      <td>-9.204372</td>\n      <td>38.734170</td>\n    </tr>\n    <tr>\n      <th>4</th>\n      <td>Junta de Freguesia de Arroios</td>\n      <td>5</td>\n      <td>-9.144370</td>\n      <td>38.731079</td>\n    </tr>\n  </tbody>\n</table>\n</div>"
     },
     "metadata": {},
     "output_type": "execute_result",
     "execution_count": 7
    }
   ],
   "source": [
    "# We'll start by getting the data from the City of Lisbon\n",
    "lx_url = 'https://services.arcgis.com/1dSrzEWVQn5kHHyK/arcgis/rest/services/Administracao_Publica/FeatureServer/1/query?where=1%3D1&outFields=OBJECTID,NOME&outSR=4326&f=json'\n",
    "with urllib.request.urlopen(lx_url) as url:\n",
    "    lx_data = json.load(url)\n",
    "json_normalize(lx_data['features']).head()"
   ],
   "metadata": {
    "collapsed": false,
    "pycharm": {
     "name": "#%%\n",
     "is_executing": false
    }
   }
  },
  {
   "cell_type": "code",
   "execution_count": 8,
   "outputs": [
    {
     "data": {
      "text/plain": "  Borough    Neighborhood   Latitude  Longitude\n0  Lisboa  Avenidas Novas  38.730269  -9.148398\n1  Lisboa           Beato  38.736438  -9.124203\n2  Lisboa         Estrela  38.711975  -9.168894\n3  Lisboa         Benfica  38.734170  -9.204372\n4  Lisboa         Arroios  38.731079  -9.144370",
      "text/html": "<div>\n<style scoped>\n    .dataframe tbody tr th:only-of-type {\n        vertical-align: middle;\n    }\n\n    .dataframe tbody tr th {\n        vertical-align: top;\n    }\n\n    .dataframe thead th {\n        text-align: right;\n    }\n</style>\n<table border=\"1\" class=\"dataframe\">\n  <thead>\n    <tr style=\"text-align: right;\">\n      <th></th>\n      <th>Borough</th>\n      <th>Neighborhood</th>\n      <th>Latitude</th>\n      <th>Longitude</th>\n    </tr>\n  </thead>\n  <tbody>\n    <tr>\n      <th>0</th>\n      <td>Lisboa</td>\n      <td>Avenidas Novas</td>\n      <td>38.730269</td>\n      <td>-9.148398</td>\n    </tr>\n    <tr>\n      <th>1</th>\n      <td>Lisboa</td>\n      <td>Beato</td>\n      <td>38.736438</td>\n      <td>-9.124203</td>\n    </tr>\n    <tr>\n      <th>2</th>\n      <td>Lisboa</td>\n      <td>Estrela</td>\n      <td>38.711975</td>\n      <td>-9.168894</td>\n    </tr>\n    <tr>\n      <th>3</th>\n      <td>Lisboa</td>\n      <td>Benfica</td>\n      <td>38.734170</td>\n      <td>-9.204372</td>\n    </tr>\n    <tr>\n      <th>4</th>\n      <td>Lisboa</td>\n      <td>Arroios</td>\n      <td>38.731079</td>\n      <td>-9.144370</td>\n    </tr>\n  </tbody>\n</table>\n</div>"
     },
     "metadata": {},
     "output_type": "execute_result",
     "execution_count": 8
    }
   ],
   "source": [
    "# let's save it to a Dataframe\n",
    "LX_neighborhoods = pd.DataFrame(columns=column_names)\n",
    "\n",
    "for data in lx_data['features']:\n",
    "    borough = 'Lisboa' \n",
    "    neighborhood_name = re.sub('^[A-z]*\\s[a-z]*\\s[A-z]*\\s[a-z]*\\s', '', # regex to clean the name of\n",
    "                               data[u'attributes'][u'NOME'])            # neighborhoods\n",
    "\n",
    "    neighborhood_lat = data[u'geometry'][u'y']\n",
    "    neighborhood_lon = data[u'geometry'][u'x']\n",
    "    \n",
    "    LX_neighborhoods = LX_neighborhoods.append({'Borough': borough,\n",
    "                                          'Neighborhood': neighborhood_name,\n",
    "                                          'Latitude': neighborhood_lat,\n",
    "                                          'Longitude': neighborhood_lon}, ignore_index=True)\n",
    "# Check if data was correctly loaded\n",
    "LX_neighborhoods.head()"
   ],
   "metadata": {
    "collapsed": false,
    "pycharm": {
     "name": "#%%\n",
     "is_executing": false
    }
   }
  },
  {
   "cell_type": "markdown",
   "source": [
    "Now that we have the information for central Lisbon, we can now do the same to the adjacent municipalities, extract their\n",
    "postal code (Portugal) and enquire the geolocator API for their coordinates. "
   ],
   "metadata": {
    "collapsed": false,
    "pycharm": {
     "name": "#%% md\n"
    }
   }
  },
  {
   "cell_type": "code",
   "execution_count": 9,
   "outputs": [],
   "source": [
    "# We'll start by getting the data from all the municipalities of portugal\n",
    "pt_nbh_url = 'https://dados.gov.pt/pt/datasets/r/2266425a-18ca-44a8-8655-9c39624c0ccb'\n",
    "with urllib.request.urlopen(pt_nbh_url) as url:\n",
    "    pt_nbh_url = json.load(url)"
   ],
   "metadata": {
    "collapsed": false,
    "pycharm": {
     "name": "#%%\n",
     "is_executing": false
    }
   }
  },
  {
   "cell_type": "code",
   "execution_count": 10,
   "outputs": [
    {
     "name": "stdout",
     "text": [
      "<class 'pandas.core.frame.DataFrame'>\nRangeIndex: 3091 entries, 0 to 3090\nData columns (total 21 columns):\nPartitionKey     3091 non-null object\nRowKey           3091 non-null object\nTimestamp        3091 non-null object\nareaha           3091 non-null object\ncodigo           3091 non-null object\ncodigoine        3091 non-null object\ncodigopostal     3091 non-null object\ndescrpostal      3091 non-null object\neleitores2011    3091 non-null object\nemail            3091 non-null object\nentidade         3091 non-null object\nentityid         3091 non-null object\nfax              3091 non-null object\nlocalidade       3091 non-null object\nnif              3091 non-null object\nnomecompleto     3091 non-null object\npopulacao2011    3091 non-null object\nrua              3091 non-null object\nsitio            3091 non-null object\ntelefone         3091 non-null object\ntipoentidade     3091 non-null object\ndtypes: object(21)\nmemory usage: 507.2+ KB\n"
     ],
     "output_type": "stream"
    }
   ],
   "source": [
    "# Check the needed columns and relevant data\n",
    "json_normalize(pt_nbh_url['d']).info()"
   ],
   "metadata": {
    "collapsed": false,
    "pycharm": {
     "name": "#%%\n",
     "is_executing": false
    }
   }
  },
  {
   "cell_type": "code",
   "execution_count": 11,
   "outputs": [
    {
     "data": {
      "text/plain": "     Borough           Neighborhood        PC\n0     SINTRA  Agualva e Mira-Sintra  2735-054\n1    AMADORA           Águas Livres  2720-797\n2    CASCAIS            Alcabideche  2645-060\n3  ALCOCHETE              Alcochete  2890-017\n4    AMADORA              Alfragide  2610-123",
      "text/html": "<div>\n<style scoped>\n    .dataframe tbody tr th:only-of-type {\n        vertical-align: middle;\n    }\n\n    .dataframe tbody tr th {\n        vertical-align: top;\n    }\n\n    .dataframe thead th {\n        text-align: right;\n    }\n</style>\n<table border=\"1\" class=\"dataframe\">\n  <thead>\n    <tr style=\"text-align: right;\">\n      <th></th>\n      <th>Borough</th>\n      <th>Neighborhood</th>\n      <th>PC</th>\n    </tr>\n  </thead>\n  <tbody>\n    <tr>\n      <th>0</th>\n      <td>SINTRA</td>\n      <td>Agualva e Mira-Sintra</td>\n      <td>2735-054</td>\n    </tr>\n    <tr>\n      <th>1</th>\n      <td>AMADORA</td>\n      <td>Águas Livres</td>\n      <td>2720-797</td>\n    </tr>\n    <tr>\n      <th>2</th>\n      <td>CASCAIS</td>\n      <td>Alcabideche</td>\n      <td>2645-060</td>\n    </tr>\n    <tr>\n      <th>3</th>\n      <td>ALCOCHETE</td>\n      <td>Alcochete</td>\n      <td>2890-017</td>\n    </tr>\n    <tr>\n      <th>4</th>\n      <td>AMADORA</td>\n      <td>Alfragide</td>\n      <td>2610-123</td>\n    </tr>\n  </tbody>\n</table>\n</div>"
     },
     "metadata": {},
     "output_type": "execute_result",
     "execution_count": 11
    }
   ],
   "source": [
    "# let's save data from 'entidade' and 'codigopostal' it to a Dataframe\n",
    "# I will want only the municipalities named before\n",
    "m_target = ['ALCOCHETE', 'ALMADA', 'AMADORA', 'BARREIRO', 'CASCAIS', 'LOURES',\n",
    "            'MOITA', 'MONTIJO', 'ODIVELAS', 'OEIRAS', 'SEIXAL', 'SINTRA', 'VILA FRANCA DE XIRA']\n",
    "PT_neighborhoods = pd.DataFrame(columns=['Borough', 'Neighborhood', 'PC'])\n",
    "\n",
    "for data in pt_nbh_url['d']:\n",
    "    borough = re.sub('^(.)*(?=\\s\\(.)\\s\\(', '', # regex to clean the name\n",
    "                     data[u'entidade']).strip(')')\n",
    "    neighborhood_name = re.sub('\\s\\((.*)', '', # regex to clean the name of neighborhoods\n",
    "                               data[u'entidade'])\n",
    "    postalcode = data[u'codigopostal']\n",
    "\n",
    "    PT_neighborhoods = PT_neighborhoods.append({'Borough': borough,\n",
    "                                          'Neighborhood': neighborhood_name,\n",
    "                                          'PC': postalcode}, ignore_index=True)\n",
    "\n",
    "PT_neighborhoods = PT_neighborhoods[PT_neighborhoods['Borough'].isin(m_target)].reset_index().iloc[:,1:]\n",
    "# Check the resulting DataFrame\n",
    "PT_neighborhoods.head()"
   ],
   "metadata": {
    "collapsed": false,
    "pycharm": {
     "name": "#%%\n",
     "is_executing": false
    }
   }
  },
  {
   "cell_type": "code",
   "execution_count": 12,
   "outputs": [
    {
     "name": "stdout",
     "text": [
      "latitude is : 38.79846 \nlongitude is: -9.3881\n"
     ],
     "output_type": "stream"
    }
   ],
   "source": [
    "# Let's try to use the geopy.geocoders package to search for coordinates based on portuguese postal code\n",
    "geolocator = Nominatim(user_agent='pt_coordinates')\n",
    "pc = '2735-054'\n",
    "borough =\"SINTRA\"\n",
    "loc = geolocator.geocode(pc + ',' + borough)\n",
    "print(\"latitude is :\" ,loc.latitude,\"\\nlongitude is:\" ,loc.longitude)"
   ],
   "metadata": {
    "collapsed": false,
    "pycharm": {
     "name": "#%%\n",
     "is_executing": false
    }
   }
  },
  {
   "cell_type": "markdown",
   "source": [
    "It work fine, so i'll use this to find all the coordinates in the previous dataframe"
   ],
   "metadata": {
    "collapsed": false,
    "pycharm": {
     "name": "#%% md\n"
    }
   }
  },
  {
   "cell_type": "code",
   "execution_count": 13,
   "outputs": [],
   "source": [
    "# Build a function to extract and store coordinates in a DataFrame\n",
    "def find_coordinates_pt(place, nbh, postal_code, df):\n",
    "    coordinates_df = pd.DataFrame(columns=('PC','Latitude', 'Longitude'))\n",
    "    list_ex = ['\\,.*', '(\\se\\s).*'] # list of regex to parse the string from nbh\n",
    "    for p, n, post in zip(df[place], df[nbh], df[postal_code]): # For every line\n",
    "        gl = Nominatim(user_agent='pt_coordinates')\n",
    "        try:\n",
    "            l = gl.geocode(post + ',' + n) # find \"postalcode, nbh\"\n",
    "            coordinates_df = coordinates_df.append({\n",
    "                'PC':post,\n",
    "                'Latitude':l.latitude,\n",
    "                'Longitude':l.longitude\n",
    "            }, ignore_index=True)\n",
    "        except:\n",
    "            try: # if doesnt work we loop by the regex until no error is found\n",
    "                for ex in list_ex:\n",
    "                    l = gl.geocode(re.sub(ex, '', n) + ', Portugal')\n",
    "                    try:\n",
    "                       coordinates_df = coordinates_df.append({\n",
    "                            'PC':post,\n",
    "                            'Latitude':l.latitude,\n",
    "                            'Longitude':l.longitude\n",
    "                        }, ignore_index=True)\n",
    "                       break\n",
    "                    except:\n",
    "                        pass\n",
    "            except: # if still doesnt provide coordinates, it wil produce a blank value for that post code\n",
    "                coordinates_df = coordinates_df.append({\n",
    "                    'PC':post,\n",
    "                    'Latitude':'',\n",
    "                    'Longitude':''\n",
    "                }, ignore_index=True)\n",
    "    return pd.merge(df, coordinates_df, on=postal_code, how='inner') # merge of the 2 dataframes on postal code"
   ],
   "metadata": {
    "collapsed": false,
    "pycharm": {
     "name": "#%%\n",
     "is_executing": false
    }
   }
  },
  {
   "cell_type": "code",
   "execution_count": 14,
   "outputs": [],
   "source": [
    "# Let's create our final dataset for the locations of Great Lisbon Area\n",
    "GLX_neighborhoods = LX_neighborhoods.append(find_coordinates_pt('Borough',\n",
    "                                                                'Neighborhood', \n",
    "                                                                'PC', \n",
    "                                                                PT_neighborhoods).drop('PC', axis=1),\n",
    "                                            sort=False)"
   ],
   "metadata": {
    "collapsed": false,
    "pycharm": {
     "name": "#%%\n",
     "is_executing": false
    }
   }
  },
  {
   "cell_type": "markdown",
   "source": [
    "Now our final dataframe is built, so let's take a look at it:"
   ],
   "metadata": {
    "collapsed": false,
    "pycharm": {
     "name": "#%% md\n"
    }
   }
  },
  {
   "cell_type": "code",
   "execution_count": 15,
   "outputs": [
    {
     "data": {
      "text/plain": "  Borough    Neighborhood   Latitude  Longitude\n0  Lisboa  Avenidas Novas  38.730269  -9.148398\n1  Lisboa           Beato  38.736438  -9.124203\n2  Lisboa         Estrela  38.711975  -9.168894\n3  Lisboa         Benfica  38.734170  -9.204372\n4  Lisboa         Arroios  38.731079  -9.144370",
      "text/html": "<div>\n<style scoped>\n    .dataframe tbody tr th:only-of-type {\n        vertical-align: middle;\n    }\n\n    .dataframe tbody tr th {\n        vertical-align: top;\n    }\n\n    .dataframe thead th {\n        text-align: right;\n    }\n</style>\n<table border=\"1\" class=\"dataframe\">\n  <thead>\n    <tr style=\"text-align: right;\">\n      <th></th>\n      <th>Borough</th>\n      <th>Neighborhood</th>\n      <th>Latitude</th>\n      <th>Longitude</th>\n    </tr>\n  </thead>\n  <tbody>\n    <tr>\n      <th>0</th>\n      <td>Lisboa</td>\n      <td>Avenidas Novas</td>\n      <td>38.730269</td>\n      <td>-9.148398</td>\n    </tr>\n    <tr>\n      <th>1</th>\n      <td>Lisboa</td>\n      <td>Beato</td>\n      <td>38.736438</td>\n      <td>-9.124203</td>\n    </tr>\n    <tr>\n      <th>2</th>\n      <td>Lisboa</td>\n      <td>Estrela</td>\n      <td>38.711975</td>\n      <td>-9.168894</td>\n    </tr>\n    <tr>\n      <th>3</th>\n      <td>Lisboa</td>\n      <td>Benfica</td>\n      <td>38.734170</td>\n      <td>-9.204372</td>\n    </tr>\n    <tr>\n      <th>4</th>\n      <td>Lisboa</td>\n      <td>Arroios</td>\n      <td>38.731079</td>\n      <td>-9.144370</td>\n    </tr>\n  </tbody>\n</table>\n</div>"
     },
     "metadata": {},
     "output_type": "execute_result",
     "execution_count": 15
    }
   ],
   "source": [
    "GLX_neighborhoods.head()"
   ],
   "metadata": {
    "collapsed": false,
    "pycharm": {
     "name": "#%%\n",
     "is_executing": false
    }
   }
  },
  {
   "cell_type": "code",
   "execution_count": 16,
   "outputs": [],
   "source": [
    "# Save the dataframe as a csv file in the resources folder\n",
    "GLX_neighborhoods.to_csv('resources_battle_n/GLX_neighborhoods.csv')"
   ],
   "metadata": {
    "collapsed": false,
    "pycharm": {
     "name": "#%%\n",
     "is_executing": false
    }
   }
  },
  {
   "cell_type": "markdown",
   "source": [
    "### 2.4 Scrapping of data from Nomad List\n",
    "This data is intended to further help on selecting the best place for the startup. I'm expecting to have matches between\n",
    "neighborhoods of all 3 cities, so this is the best objective way to select an appropriate neighborhood or at least the\n",
    "top best ones."
   ],
   "metadata": {
    "collapsed": false
   }
  },
  {
   "cell_type": "code",
   "execution_count": 44,
   "outputs": [],
   "source": [
    "# Define the list of Cities\n",
    "list_cities = ['new-york-city', 'toronto', 'lisbon']\n",
    "\n",
    "content = []\n",
    "col_data = []"
   ],
   "metadata": {
    "collapsed": false,
    "pycharm": {
     "name": "#%%\n",
     "is_executing": false
    }
   }
  },
  {
   "cell_type": "code",
   "execution_count": 48,
   "outputs": [
    {
     "name": "stdout",
     "text": [
      "Done!\n"
     ],
     "output_type": "stream"
    }
   ],
   "source": [
    "# Scrapping data\n",
    "try:\n",
    "    for i, c in enumerate(list_cities):\n",
    "        time.sleep(random.choice(np.linspace(1, 5))) # a random delayer to avoid blocking\n",
    "        req_parsed = bs(requests.get('https://nomadlist.com/{}'.format(c)).text, 'html.parser')\n",
    "        #Find relevant information and store it\n",
    "        table = req_parsed.find('table',{'class':'details'})\n",
    "        fullrows = []\n",
    "        for row in table.find_all('tr'):\n",
    "            col = row.find_all('td')\n",
    "            fullrows.append([row.text for row in col])\n",
    "            fullrows[-1][0] = re.sub('\\W', '', fullrows[-1][0])\n",
    "            fullrows[-1][1] = re.sub('\\W', ' ', fullrows[-1][1])\n",
    "        fullrows.append(['City', list_cities[i]])\n",
    "        row_data = np.array(fullrows).T.tolist()[1]\n",
    "        col_data = np.array(fullrows).T.tolist()[0]\n",
    "        content.append(pd.DataFrame(row_data).T)\n",
    "    print('Done!')\n",
    "except:\n",
    "    print('Something went wrong...')"
   ],
   "metadata": {
    "collapsed": false,
    "pycharm": {
     "name": "#%%\n",
     "is_executing": false
    }
   }
  },
  {
   "cell_type": "code",
   "execution_count": 49,
   "outputs": [],
   "source": [
    "# constructing final df\n",
    "content.append(pd.DataFrame(col_data).T)\n",
    "NL_data = pd.concat(content).reset_index().iloc[:,1:].copy()\n",
    "NL_cities = NL_data.iloc[:-1,:]\n",
    "NL_cities.columns = NL_data.iloc[-1,:]\n",
    "NL_cities = NL_cities.reindex()"
   ],
   "metadata": {
    "collapsed": false,
    "pycharm": {
     "name": "#%%\n",
     "is_executing": false
    }
   }
  },
  {
   "cell_type": "code",
   "execution_count": 50,
   "outputs": [],
   "source": [
    "# now some data clean up\n",
    "corresp = {'Great':5, 'Good':4, 'Okay':3, 'Bad':1}\n",
    "NL_cities['NomadScore'] = NL_cities['NomadScore'].astype('str').str.\\\n",
    "    replace(r'\\s\\d+\\s\\w+$', '', regex=True).\\\n",
    "    replace(r'\\s', '.', regex=True).astype('float')\n",
    "NL_cities['Cost'] = NL_cities['Cost'].astype('str').str.\\\n",
    "    replace(r'[A-z]\\s*', '', regex=True).replace(r'\\s', '', regex=True).astype('int')\n",
    "NL_cities['Internet'] = NL_cities['Internet'].astype('str').str.\\\n",
    "    replace(r'[A-z]\\s*', '', regex=True).astype('int')\n",
    "NL_cities['Weather'] = NL_cities['Weather'].astype('str').str.\\\n",
    "    replace(r'[^0-9]', '', regex=True).\\\n",
    "    replace(r'[0-9]{2}$', '', regex=True).astype('int')\n",
    "NL_cities['Airqualitynow'] = NL_cities['Airqualitynow'].astype('str').str.\\\n",
    "    replace(r'[^0-9]{2}.', '', regex=True).astype('float')\n",
    "list_cols = ['Fun','Safety', 'Qualityoflife', 'Walkability', \n",
    "           'Peace', 'Trafficsafety', 'Hospitals', \n",
    "           'Happiness', 'Nightlife', 'FreeWiFiincity', \n",
    "           'Placestoworkfrom', 'ACorheating', \n",
    "           'Friendlytoforeigners', 'Englishspeaking', \n",
    "           'Freedomofspeech', 'Racialtolerance', \n",
    "           'Femalefriendly', 'LGBTfriendly', 'StartupScore']\n",
    "for col in list_cols:\n",
    "    NL_cities[col] = NL_cities[col].replace(corresp).astype('int')\n",
    "NL_cities['Peopledensity'] = NL_cities['Peopledensity'].astype('str').str.\\\n",
    "    replace(r'k.*', '000', regex=True).replace(r'\\w*\\s+', '', regex=True).astype('int')\n",
    "NL_cities = NL_cities.rename(columns={'Cost':'CostPerMonth',\n",
    "                                      'Internet':'Internet_Mbps_avg',\n",
    "                                      'Weather':'WeatherCelsiusNow',\n",
    "                                      'Airqualitynow':'Airqualitynow_mcg_cubicm',\n",
    "                                      'Peopledensity':'Peopledensity_sqrKm'})\n",
    "cols = NL_cities.columns.tolist()\n",
    "cols = cols[-1:] + cols[:-1]\n",
    "NL_cities = NL_cities[cols]"
   ],
   "metadata": {
    "collapsed": false,
    "pycharm": {
     "name": "#%%\n",
     "is_executing": false
    }
   }
  },
  {
   "cell_type": "markdown",
   "source": [
    "Finally I have a clean and final Dataframe about the 3 cities."
   ],
   "metadata": {
    "collapsed": false,
    "pycharm": {
     "name": "#%% md\n"
    }
   }
  },
  {
   "cell_type": "code",
   "execution_count": 51,
   "outputs": [
    {
     "data": {
      "text/plain": "3                       City  NomadScore  CostPerMonth  Internet_Mbps_avg  \\\nCity                                                                        \nnew-york-city  new-york-city        3.56          5239                 21   \ntoronto              toronto        3.32          3331                 18   \nlisbon                lisbon        3.77          2346                 15   \n\n3              WeatherCelsiusNow  Airqualitynow_mcg_cubicm  Fun  Safety  \\\nCity                                                                      \nnew-york-city                 32                      23.0    5       4   \ntoronto                       27                      59.0    4       4   \nlisbon                        24                      43.0    4       4   \n\n3              Qualityoflife  Peopledensity_sqrKm  Walkability  Peace  \\\nCity                                                                    \nnew-york-city              4                10000            5      3   \ntoronto                    4                 4000            5      4   \nlisbon                     4                 6000            5      4   \n\n3              Trafficsafety  Hospitals  Happiness  Nightlife  FreeWiFiincity  \\\nCity                                                                            \nnew-york-city              5          4          4          5               5   \ntoronto                    5          4          5          5               4   \nlisbon                     5          1          3          3               3   \n\n3              Placestoworkfrom  ACorheating  Friendlytoforeigners  \\\nCity                                                                 \nnew-york-city                 5            3                     5   \ntoronto                       5            3                     4   \nlisbon                        5            3                     4   \n\n3              Englishspeaking  Freedomofspeech  Racialtolerance  \\\nCity                                                               \nnew-york-city                5                4                4   \ntoronto                      5                5                5   \nlisbon                       4                5                3   \n\n3              Femalefriendly  LGBTfriendly  StartupScore  \nCity                                                       \nnew-york-city               4             5             3  \ntoronto                     4             5             3  \nlisbon                      4             4             3  ",
      "text/html": "<div>\n<style scoped>\n    .dataframe tbody tr th:only-of-type {\n        vertical-align: middle;\n    }\n\n    .dataframe tbody tr th {\n        vertical-align: top;\n    }\n\n    .dataframe thead th {\n        text-align: right;\n    }\n</style>\n<table border=\"1\" class=\"dataframe\">\n  <thead>\n    <tr style=\"text-align: right;\">\n      <th>3</th>\n      <th>City</th>\n      <th>NomadScore</th>\n      <th>CostPerMonth</th>\n      <th>Internet_Mbps_avg</th>\n      <th>WeatherCelsiusNow</th>\n      <th>Airqualitynow_mcg_cubicm</th>\n      <th>Fun</th>\n      <th>Safety</th>\n      <th>Qualityoflife</th>\n      <th>Peopledensity_sqrKm</th>\n      <th>Walkability</th>\n      <th>Peace</th>\n      <th>Trafficsafety</th>\n      <th>Hospitals</th>\n      <th>Happiness</th>\n      <th>Nightlife</th>\n      <th>FreeWiFiincity</th>\n      <th>Placestoworkfrom</th>\n      <th>ACorheating</th>\n      <th>Friendlytoforeigners</th>\n      <th>Englishspeaking</th>\n      <th>Freedomofspeech</th>\n      <th>Racialtolerance</th>\n      <th>Femalefriendly</th>\n      <th>LGBTfriendly</th>\n      <th>StartupScore</th>\n    </tr>\n    <tr>\n      <th>City</th>\n      <th></th>\n      <th></th>\n      <th></th>\n      <th></th>\n      <th></th>\n      <th></th>\n      <th></th>\n      <th></th>\n      <th></th>\n      <th></th>\n      <th></th>\n      <th></th>\n      <th></th>\n      <th></th>\n      <th></th>\n      <th></th>\n      <th></th>\n      <th></th>\n      <th></th>\n      <th></th>\n      <th></th>\n      <th></th>\n      <th></th>\n      <th></th>\n      <th></th>\n      <th></th>\n    </tr>\n  </thead>\n  <tbody>\n    <tr>\n      <th>new-york-city</th>\n      <td>new-york-city</td>\n      <td>3.56</td>\n      <td>5239</td>\n      <td>21</td>\n      <td>32</td>\n      <td>23.0</td>\n      <td>5</td>\n      <td>4</td>\n      <td>4</td>\n      <td>10000</td>\n      <td>5</td>\n      <td>3</td>\n      <td>5</td>\n      <td>4</td>\n      <td>4</td>\n      <td>5</td>\n      <td>5</td>\n      <td>5</td>\n      <td>3</td>\n      <td>5</td>\n      <td>5</td>\n      <td>4</td>\n      <td>4</td>\n      <td>4</td>\n      <td>5</td>\n      <td>3</td>\n    </tr>\n    <tr>\n      <th>toronto</th>\n      <td>toronto</td>\n      <td>3.32</td>\n      <td>3331</td>\n      <td>18</td>\n      <td>27</td>\n      <td>59.0</td>\n      <td>4</td>\n      <td>4</td>\n      <td>4</td>\n      <td>4000</td>\n      <td>5</td>\n      <td>4</td>\n      <td>5</td>\n      <td>4</td>\n      <td>5</td>\n      <td>5</td>\n      <td>4</td>\n      <td>5</td>\n      <td>3</td>\n      <td>4</td>\n      <td>5</td>\n      <td>5</td>\n      <td>5</td>\n      <td>4</td>\n      <td>5</td>\n      <td>3</td>\n    </tr>\n    <tr>\n      <th>lisbon</th>\n      <td>lisbon</td>\n      <td>3.77</td>\n      <td>2346</td>\n      <td>15</td>\n      <td>24</td>\n      <td>43.0</td>\n      <td>4</td>\n      <td>4</td>\n      <td>4</td>\n      <td>6000</td>\n      <td>5</td>\n      <td>4</td>\n      <td>5</td>\n      <td>1</td>\n      <td>3</td>\n      <td>3</td>\n      <td>3</td>\n      <td>5</td>\n      <td>3</td>\n      <td>4</td>\n      <td>4</td>\n      <td>5</td>\n      <td>3</td>\n      <td>4</td>\n      <td>4</td>\n      <td>3</td>\n    </tr>\n  </tbody>\n</table>\n</div>"
     },
     "metadata": {},
     "output_type": "execute_result",
     "execution_count": 51
    }
   ],
   "source": [
    "NL_cities.to_csv('resources_battle_n/NL_cities.csv')\n",
    "NL_cities"
   ],
   "metadata": {
    "collapsed": false,
    "pycharm": {
     "name": "#%%\n",
     "is_executing": false
    }
   }
  }
 ],
 "metadata": {
  "language_info": {
   "codemirror_mode": {
    "name": "ipython",
    "version": 2
   },
   "file_extension": ".py",
   "mimetype": "text/x-python",
   "name": "python",
   "nbconvert_exporter": "python",
   "pygments_lexer": "ipython2",
   "version": "2.7.6"
  },
  "kernelspec": {
   "name": "python3",
   "language": "python",
   "display_name": "Python 3"
  },
  "pycharm": {
   "stem_cell": {
    "cell_type": "raw",
    "source": [],
    "metadata": {
     "collapsed": false
    }
   }
  }
 },
 "nbformat": 4,
 "nbformat_minor": 0
}